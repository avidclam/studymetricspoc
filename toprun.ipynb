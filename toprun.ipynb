{
 "cells": [
  {
   "cell_type": "markdown",
   "id": "fdff65e7-0d2c-44e9-ba1a-69fe42d73542",
   "metadata": {},
   "source": [
    "# Metrics on a Graph PoC"
   ]
  },
  {
   "cell_type": "markdown",
   "id": "52a8a16b-d0c2-4d53-af98-578c6d9c548f",
   "metadata": {},
   "source": [
    "This is a Proof-of-Concept project that intends to demonstrate calculation of clinical research metrics on a graph database."
   ]
  },
  {
   "cell_type": "markdown",
   "id": "a8469bff-79ff-4906-a9ab-4d33482174c2",
   "metadata": {},
   "source": [
    "We first take sample SDTM data from the `pharmaversesdtm` project and save it with no changes into the DuckDB database. As a next step, Kùzu graph database is created from the main domains (TS, DM, VS, DS). Then metric componenents (measures) and several metrics are created for various reporting dates in the past. \n",
    "\n",
    "As a final step, metric dynamics is visualized."
   ]
  },
  {
   "cell_type": "markdown",
   "id": "5e349ed2-08ba-4491-be78-c2bb35627e68",
   "metadata": {},
   "source": [
    "## Files and Folders"
   ]
  },
  {
   "cell_type": "markdown",
   "id": "a63f3f85-a6f5-42cd-819d-bbb6efae5ba1",
   "metadata": {},
   "source": [
    "One of the main design concepts of this PoC is separation of code and data logic. \n",
    "\n",
    "So as much as possible, from settings to SQL and Cypher statements are in the **process.yaml** file."
   ]
  },
  {
   "cell_type": "markdown",
   "id": "e394a887-dd8b-45c6-9c50-1666698d0b11",
   "metadata": {},
   "source": [
    "Other files and folders:\n",
    "\n",
    "- **source** data folder contains only main brunch of the **pharmaversesdtm** repository\n",
    "- **database** folder contains intermediate DuckDB database in **stage** and Kuzu graph db in **graph**\n",
    "- **studymetricspoc** is for the Python code\n",
    "- **process** contains subfolders with data transformation code, also old scripts and notebooks; correct final script is always referenced here in this notebook\n",
    "- **result** folder contains Jupyter notebook with results of their run\n",
    "- **library** is for books\n",
    "- **sandbox** and **hide** are garbage cans"
   ]
  },
  {
   "cell_type": "markdown",
   "id": "769ef077-c7c0-4b6b-8b22-2819df050cd1",
   "metadata": {},
   "source": [
    "## Transformation Sequence"
   ]
  },
  {
   "cell_type": "code",
   "execution_count": 1,
   "id": "4bce53d8-48a7-4ae2-979c-b95c1d6693e8",
   "metadata": {},
   "outputs": [],
   "source": [
    "from studymetricspoc import run_notebook, ProcessConfig"
   ]
  },
  {
   "cell_type": "code",
   "execution_count": 2,
   "id": "9b9b9b36-63d5-4cde-9bbb-9db424e38f01",
   "metadata": {},
   "outputs": [],
   "source": [
    "pc = ProcessConfig()"
   ]
  },
  {
   "cell_type": "code",
   "execution_count": 3,
   "id": "bbf07c38-79d1-4514-b504-35369833e5fb",
   "metadata": {},
   "outputs": [],
   "source": [
    "result_folder = pc.get_path('RESULT_PATH')"
   ]
  },
  {
   "cell_type": "markdown",
   "id": "ce22d0c1-4ee7-482e-b962-079fa1669f0c",
   "metadata": {},
   "source": [
    "### Source to Stage"
   ]
  },
  {
   "cell_type": "markdown",
   "id": "45cdbf79-5d3a-48f7-87bd-8b93429dd026",
   "metadata": {},
   "source": [
    "Convert source rda files containing SDTM datasets into DuckDB database."
   ]
  },
  {
   "cell_type": "code",
   "execution_count": 5,
   "id": "b1713841-e471-48cc-acf3-56110bc7e40a",
   "metadata": {
    "editable": true,
    "slideshow": {
     "slide_type": ""
    },
    "tags": []
   },
   "outputs": [],
   "source": [
    "source_to_stage_in = pc.get_path('SOURCE2STAGE')\n",
    "source_to_stage_out = result_folder / source_to_stage_in.name"
   ]
  },
  {
   "cell_type": "code",
   "execution_count": 8,
   "id": "d4c19ebd-ae39-484a-91f4-6e821c04d4b4",
   "metadata": {},
   "outputs": [
    {
     "name": "stdout",
     "output_type": "stream",
     "text": [
      "CPU times: total: 516 ms\n",
      "Wall time: 40.3 s\n"
     ]
    }
   ],
   "source": [
    "%%time\n",
    "run_notebook(source_to_stage_in, source_to_stage_out)"
   ]
  },
  {
   "cell_type": "markdown",
   "id": "d34e55da-b753-4802-af5c-b2d449f5dd92",
   "metadata": {},
   "source": [
    "### Stage to Graph DB"
   ]
  },
  {
   "cell_type": "code",
   "execution_count": 9,
   "id": "879c3a0e-c031-4a75-8248-f1d38218006e",
   "metadata": {},
   "outputs": [],
   "source": [
    "stage_to_graph_in = pc.get_path('STAGE2GRAPH')\n",
    "stage_to_graph_out = result_folder / stage_to_graph_in.name"
   ]
  },
  {
   "cell_type": "code",
   "execution_count": 12,
   "id": "35db98bb-fcf8-455d-a287-dc4cbe02654a",
   "metadata": {},
   "outputs": [
    {
     "name": "stdout",
     "output_type": "stream",
     "text": [
      "CPU times: total: 344 ms\n",
      "Wall time: 11.7 s\n"
     ]
    }
   ],
   "source": [
    "%%time\n",
    "run_notebook(stage_to_graph_in, stage_to_graph_out)"
   ]
  },
  {
   "cell_type": "code",
   "execution_count": null,
   "id": "d46754cb-9086-4b4b-b538-a2b553e01eda",
   "metadata": {},
   "outputs": [],
   "source": []
  }
 ],
 "metadata": {
  "kernelspec": {
   "display_name": "Demo 2026",
   "language": "python",
   "name": "demo2026"
  },
  "language_info": {
   "codemirror_mode": {
    "name": "ipython",
    "version": 3
   },
   "file_extension": ".py",
   "mimetype": "text/x-python",
   "name": "python",
   "nbconvert_exporter": "python",
   "pygments_lexer": "ipython3",
   "version": "3.13.6"
  }
 },
 "nbformat": 4,
 "nbformat_minor": 5
}
