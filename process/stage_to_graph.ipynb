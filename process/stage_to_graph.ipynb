{
 "cells": [
  {
   "cell_type": "markdown",
   "id": "23d6372b-ee54-422d-86ee-04abffc30f0b",
   "metadata": {},
   "source": [
    "# Stage to Graph"
   ]
  },
  {
   "cell_type": "markdown",
   "id": "e83deec8-2d8b-4946-8ecc-b67d94470005",
   "metadata": {},
   "source": [
    "This notebook extracts some data from the stage database and populates graph database."
   ]
  },
  {
   "cell_type": "code",
   "execution_count": null,
   "id": "d8b323e4-70df-428c-bef1-5d6b88e0130b",
   "metadata": {},
   "outputs": [],
   "source": [
    "# Allow for the import of packages from the top project folder\n",
    "import sys\n",
    "sys.path.append('../..')"
   ]
  },
  {
   "cell_type": "code",
   "execution_count": null,
   "id": "68c3ccf5-881d-4e06-ad64-5e48520f0115",
   "metadata": {},
   "outputs": [],
   "source": [
    "import shutil\n",
    "import kuzu\n",
    "import duckdb\n",
    "from studymetricspoc import ProcessConfig"
   ]
  },
  {
   "cell_type": "code",
   "execution_count": null,
   "id": "11b7838f-5b81-49a4-9bd8-42999186b5f5",
   "metadata": {},
   "outputs": [],
   "source": [
    "pc = ProcessConfig()\n",
    "KZDB_PATH = pc.get_path('GRAPH_PATH')\n",
    "KZDB_DIR = KZDB_PATH.parent\n",
    "DDB_PATH = pc.get_path('STAGE_PATH')\n",
    "DDB_DIR = DDB_PATH.parent"
   ]
  },
  {
   "cell_type": "markdown",
   "id": "06524c0f-2c48-47cd-ab93-f1cda3157b99",
   "metadata": {},
   "source": [
    "## Remove and Clean Everything"
   ]
  },
  {
   "cell_type": "code",
   "execution_count": null,
   "id": "9f24a423-c05a-46dd-bb00-9d4736c77fee",
   "metadata": {},
   "outputs": [],
   "source": [
    "shutil.rmtree(KZDB_DIR, ignore_errors=True)\n",
    "KZDB_DIR.mkdir(parents=True, exist_ok=True)"
   ]
  },
  {
   "cell_type": "markdown",
   "id": "49b9d3e2-f9e5-458b-8dae-5ac902c8858e",
   "metadata": {},
   "source": [
    "## Create Graph Database Schema"
   ]
  },
  {
   "cell_type": "code",
   "execution_count": null,
   "id": "4cc6944c-e2f8-44d3-9367-a40f2ceff477",
   "metadata": {},
   "outputs": [],
   "source": [
    "kzdb = kuzu.Database(KZDB_PATH)\n",
    "kzcon = kuzu.Connection(kzdb)"
   ]
  },
  {
   "cell_type": "markdown",
   "id": "5cd8de0b-51e9-498a-813b-8402f3ad0700",
   "metadata": {},
   "source": [
    "### DDL"
   ]
  },
  {
   "cell_type": "code",
   "execution_count": null,
   "id": "1e5991ed-b2fd-4971-beea-7ebb32f3f8b3",
   "metadata": {},
   "outputs": [],
   "source": [
    "ddl_text = pc.get('BUILDER_DDL')\n",
    "for statement in filter(lambda x: x.strip(), ddl_text.split(';')):\n",
    "    kzcon.execute(statement)"
   ]
  },
  {
   "cell_type": "code",
   "execution_count": null,
   "id": "84937864-6965-4af6-ab33-c1c66455a006",
   "metadata": {},
   "outputs": [],
   "source": [
    "list(kzcon.execute(\"CALL show_tables() RETURN *\"))"
   ]
  },
  {
   "cell_type": "code",
   "execution_count": null,
   "id": "63ec8485-4d28-47cd-ba7e-fa08caa13f1d",
   "metadata": {},
   "outputs": [],
   "source": [
    "print(ddl_text)"
   ]
  },
  {
   "cell_type": "markdown",
   "id": "77111695-7b32-4185-8712-508a8b841ee8",
   "metadata": {},
   "source": [
    "### SQL"
   ]
  },
  {
   "cell_type": "code",
   "execution_count": null,
   "id": "629bceab-fe50-4339-ad1b-89b6715abb62",
   "metadata": {},
   "outputs": [],
   "source": [
    "ddbcon = duckdb.connect(DDB_PATH, read_only = True)"
   ]
  },
  {
   "cell_type": "code",
   "execution_count": null,
   "id": "758c98d4-2cbe-434a-9271-b4a9dcaef743",
   "metadata": {},
   "outputs": [],
   "source": [
    "sql_queries = pc.get('BUILDER_SQL')"
   ]
  },
  {
   "cell_type": "code",
   "execution_count": null,
   "id": "2097e860-15db-4854-b8de-debfdbcc9788",
   "metadata": {},
   "outputs": [],
   "source": [
    "for table_name, query in sql_queries.items():\n",
    "    # Get data from SQL\n",
    "    df = ddbcon.execute(query).pl()\n",
    "    # Populate graph with nodes or relations from the query\n",
    "    result = kzcon.execute(f\"COPY {table_name} FROM $dataframe (ignore_errors=true)\", {'dataframe': df})\n",
    "    rdf = result.get_as_pl()\n",
    "    print(f'{table_name}:', rdf.get_column('result').last())"
   ]
  },
  {
   "cell_type": "markdown",
   "id": "55454026-fde9-4820-b257-abc1df604a4a",
   "metadata": {},
   "source": [
    "### Post-Ingest Object Creation"
   ]
  },
  {
   "cell_type": "code",
   "execution_count": null,
   "id": "95b7b90c-97e2-4a0b-978b-d7ce4baba0fe",
   "metadata": {},
   "outputs": [],
   "source": [
    "graph_statement_groups = pc.get('BUILDER_POSTINGEST')"
   ]
  },
  {
   "cell_type": "code",
   "execution_count": null,
   "id": "0ab98346-d317-4090-a6cf-0b0ba96caeb9",
   "metadata": {},
   "outputs": [],
   "source": [
    "for statement_group, sg_dict in graph_statement_groups.items():\n",
    "    print(f'Starting group: {statement_group}')\n",
    "    for statement_name, statement in sg_dict.items():\n",
    "        print(f'> Running statement: {statement_name}')\n",
    "        result = kzcon.execute(statement)"
   ]
  },
  {
   "cell_type": "code",
   "execution_count": null,
   "id": "3e05c485-8540-4003-9b27-e31207752342",
   "metadata": {},
   "outputs": [],
   "source": [
    "ddbcon.close()\n",
    "kzcon.close()\n",
    "kzdb.close()"
   ]
  }
 ],
 "metadata": {
  "kernelspec": {
   "display_name": "Demo 2026",
   "language": "python",
   "name": "demo2026"
  },
  "language_info": {
   "codemirror_mode": {
    "name": "ipython",
    "version": 3
   },
   "file_extension": ".py",
   "mimetype": "text/x-python",
   "name": "python",
   "nbconvert_exporter": "python",
   "pygments_lexer": "ipython3",
   "version": "3.13.6"
  }
 },
 "nbformat": 4,
 "nbformat_minor": 5
}
