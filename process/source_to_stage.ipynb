{
 "cells": [
  {
   "cell_type": "markdown",
   "id": "8f2e16a0-885f-4874-9d98-d54ce6fec0d0",
   "metadata": {},
   "source": [
    "# Source to Stage"
   ]
  },
  {
   "cell_type": "markdown",
   "id": "847ba6b3-df8c-4872-a4f2-065e1567e1fa",
   "metadata": {},
   "source": [
    "This notebook with R kernel extracts all rda files from `pharmaversesdtm` source and converts them to stage database."
   ]
  },
  {
   "cell_type": "code",
   "execution_count": null,
   "id": "eb625238-8c51-4648-9d65-431805017310",
   "metadata": {},
   "outputs": [],
   "source": [
    "library(yaml)\n",
    "library(DBI)\n",
    "library(duckdb)\n",
    "suppressWarnings(suppressMessages(library(dplyr)))\n",
    "library(textclean)"
   ]
  },
  {
   "cell_type": "markdown",
   "id": "66ca45b9-4b0d-4880-8706-f4d911b012ce",
   "metadata": {},
   "source": [
    "## Get Configuration"
   ]
  },
  {
   "cell_type": "code",
   "execution_count": null,
   "id": "9da33fa4-6a26-4fc2-bc0b-3455489d1e1b",
   "metadata": {
    "editable": true,
    "slideshow": {
     "slide_type": ""
    },
    "tags": []
   },
   "outputs": [],
   "source": [
    "process_yaml <- yaml::read_yaml(\"process.yaml\")"
   ]
  },
  {
   "cell_type": "code",
   "execution_count": null,
   "id": "12c88208-f8d1-4e05-b15a-47878dcff094",
   "metadata": {},
   "outputs": [],
   "source": [
    "current_path <- getwd()"
   ]
  },
  {
   "cell_type": "code",
   "execution_count": null,
   "id": "6a3976eb-0312-4a4f-b19d-8c852b778f02",
   "metadata": {
    "editable": true,
    "slideshow": {
     "slide_type": ""
    },
    "tags": []
   },
   "outputs": [],
   "source": [
    "source_folder <- file.path(current_path, process_yaml$config$connection$sdtm$path)\n",
    "duckdb_file <- file.path(current_path, process_yaml$config$connection$stage$path)\n",
    "metadata_file <- file.path(current_path, process_yaml$config$connection$stage$meta_path)\n",
    "dir.create(dirname(duckdb_file), recursive = TRUE, showWarnings = FALSE)"
   ]
  },
  {
   "cell_type": "markdown",
   "id": "5cecacc8-9265-484a-89a8-01703e264cb5",
   "metadata": {},
   "source": [
    "## Set up local functions"
   ]
  },
  {
   "cell_type": "code",
   "execution_count": null,
   "id": "03f6e9b5-df89-4241-a8fa-9291751f7fc4",
   "metadata": {},
   "outputs": [],
   "source": [
    "# Cleans text strings in data frames, assumes Windows-1252\n",
    "make_clean_strings <- function(df) {\n",
    "  chr_cols <- sapply(df, is.character)\n",
    "  \n",
    "  df[chr_cols] <- lapply(df[chr_cols], function(col) {\n",
    "    # Step 1: convert from Windows-1252 to UTF-8 safely\n",
    "    col <- iconv(col, from = \"WINDOWS-1252\", to = \"UTF-8\", sub = \"\")\n",
    "    # Step 2: now replace fancy punctuation with ASCII equivalents\n",
    "    col <- textclean::replace_non_ascii(col)\n",
    "    col\n",
    "  })\n",
    "  \n",
    "  df\n",
    "}"
   ]
  },
  {
   "cell_type": "markdown",
   "id": "566306e9-67d8-4fb1-87af-029c0385eac7",
   "metadata": {},
   "source": [
    "## Do conversion"
   ]
  },
  {
   "cell_type": "code",
   "execution_count": null,
   "id": "01abbff8-95b2-4db9-a3ea-95e58c81d37f",
   "metadata": {},
   "outputs": [],
   "source": [
    "dcon <- dbConnect(duckdb::duckdb(), dbdir = duckdb_file)"
   ]
  },
  {
   "cell_type": "code",
   "execution_count": null,
   "id": "76f1928c-33f3-40c8-a404-a0493ab549f1",
   "metadata": {},
   "outputs": [],
   "source": [
    "metadata <- list()"
   ]
  },
  {
   "cell_type": "code",
   "execution_count": null,
   "id": "f70fd757-79f3-447e-a579-e08fad049c4f",
   "metadata": {},
   "outputs": [],
   "source": [
    "rda_files <- list.files(path = source_folder, pattern = \"\\\\.rda$\", full.names = TRUE)"
   ]
  },
  {
   "cell_type": "code",
   "execution_count": null,
   "id": "6de23878-b91c-4bfb-a95c-f1e2d137c8c0",
   "metadata": {},
   "outputs": [],
   "source": [
    "for (rda_file in rda_files) {\n",
    "  loaded_objects <- load(rda_file)\n",
    "\n",
    "  for (obj_name in loaded_objects) {\n",
    "    obj <- get(obj_name)\n",
    "    obj_label <- attr(obj, \"label\")\n",
    "    # Start collecting metadata for this object\n",
    "    entry <- paste0(\"File: \", basename(rda_file),\n",
    "                    \"\\nObject: \", obj_name,\n",
    "                    \"\\nLabel: \", ifelse(!is.null(obj_label), obj_label, \"(none)\"),\n",
    "                    \"\\n\")\n",
    "    \n",
    "    # Only process data frames / tibbles\n",
    "    if (is.data.frame(obj)) {\n",
    "      table_name <- obj_name\n",
    "      write(paste0(\"➡ Writing table:\", table_name), stdout())\n",
    "      flush(stdout())      \n",
    "      \n",
    "      # copy_to() automatically overwrites if the table already exists\n",
    "      cleaned_obj <- make_clean_strings(obj)\n",
    "      copy_to(dest = dcon, df = cleaned_obj, name = table_name, overwrite = TRUE, temporary = FALSE)\n",
    "      \n",
    "      # Update metadata\n",
    "      entry <- paste0(entry, \"Columns:\\n\")\n",
    "      for (col_name in names(obj)) {\n",
    "        col_label <- attr(obj[[col_name]], \"label\")\n",
    "        entry <- paste0(entry, \"- \", col_name, \": \", ifelse(!is.null(col_label), col_label, \"(none)\"), \"\\n\")\n",
    "      }\n",
    "      # Add to metadata list\n",
    "      metadata[[length(metadata) + 1]] <- entry\n",
    "      \n",
    "    } else {\n",
    "      write(paste0(\"⚠ Skipping non-dataframe object:\", obj_name), stdout())\n",
    "      flush(stdout())\n",
    "    }\n",
    "  }\n",
    "}"
   ]
  },
  {
   "cell_type": "markdown",
   "id": "a1ef3470-ddcd-44a2-ae48-d1d33f57db55",
   "metadata": {},
   "source": [
    "## List tables of the database"
   ]
  },
  {
   "cell_type": "code",
   "execution_count": null,
   "id": "c108194d-17ae-4077-959e-6b40fc3be2be",
   "metadata": {},
   "outputs": [],
   "source": [
    "dbGetQuery(dcon, \"\n",
    "  SELECT table_name \n",
    "  FROM information_schema.tables \n",
    "  WHERE table_schema = 'main'\n",
    "\")"
   ]
  },
  {
   "cell_type": "code",
   "execution_count": null,
   "id": "8df6e49f-dcdf-4a84-9041-152e981f506c",
   "metadata": {},
   "outputs": [],
   "source": [
    "# Close the connection\n",
    "dbDisconnect(dcon, shutdown = TRUE)"
   ]
  },
  {
   "cell_type": "code",
   "execution_count": null,
   "id": "067f47d7-ae4d-4f5a-9fb0-f748fc6dfc04",
   "metadata": {},
   "outputs": [],
   "source": [
    "# Write the collected metadata to a text file\n",
    "writeLines(unlist(metadata), con = metadata_file)"
   ]
  }
 ],
 "metadata": {
  "kernelspec": {
   "display_name": "R",
   "language": "R",
   "name": "ir"
  },
  "language_info": {
   "codemirror_mode": "r",
   "file_extension": ".r",
   "mimetype": "text/x-r-source",
   "name": "R",
   "pygments_lexer": "r",
   "version": "4.5.1"
  }
 },
 "nbformat": 4,
 "nbformat_minor": 5
}
